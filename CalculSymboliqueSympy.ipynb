{
 "cells": [
  {
   "cell_type": "markdown",
   "id": "43487f45-8618-418c-8f74-5969c444b513",
   "metadata": {},
   "source": [
    "# Calcul Symbolique avec SymPy\n",
    "\n",
    "## Introduction au Calcul Symbolique\n",
    "\n",
    "Le calcul symbolique est une branche des mathématiques qui consiste à manipuler des expressions mathématiques sous leur forme *algébrique* plutôt que numérique.  \n",
    "Contrairement au calcul numérique, qui donne des approximations (par exemple sin(π/3) ≈ 0.866), le calcul symbolique permet de conserver la forme exacte (sin(π/3) = √3/2).\n",
    "\n",
    "Ce type de calcul est largement utilisé en :\n",
    "- *Mathématiques pures* (algèbre, analyse, théorie des nombres),\n",
    "- *Physique et ingénierie* (modélisation d’équations différentielles, simplifications d’expressions),\n",
    "- *Science des données et intelligence artificielle* (optimisation symbolique, manipulation de fonctions).\n",
    "\n",
    "En Python, la bibliothèque *Sympy* fournit un environnement puissant pour effectuer du calcul symbolique. Elle permet notamment de :\n",
    "- Définir des variables symboliques,  \n",
    "- Calculer des dérivées et intégrales,  \n",
    "- Résoudre des équations algébriques ou différentielles,  \n",
    "- Manipuler et simplifier des expressions mathématiques.\n",
    "\n",
    "L’objectif de cet exposé est de présenter les principales fonctionnalités de *Sympy* à travers des exemples pratiques dans un *Notebook Jupyter*.\n",
    "\n",
    "\n",
    "\n",
    "## Installation et importation"
   ]
  },
  {
   "cell_type": "code",
   "execution_count": 31,
   "id": "78e9f4bc-1ac5-4374-9e4b-4398997ae60d",
   "metadata": {},
   "outputs": [
    {
     "name": "stdout",
     "output_type": "stream",
     "text": [
      "Requirement already satisfied: sympy in /Library/Frameworks/Python.framework/Versions/3.12/lib/python3.12/site-packages (1.14.0)\n",
      "Requirement already satisfied: mpmath<1.4,>=1.1.0 in /Library/Frameworks/Python.framework/Versions/3.12/lib/python3.12/site-packages (from sympy) (1.3.0)\n"
     ]
    }
   ],
   "source": [
    "# Cellule de code\n",
    "!pip install sympy"
   ]
  },
  {
   "cell_type": "code",
   "execution_count": 58,
   "id": "cc840399-eb97-43f7-a468-085b0478f800",
   "metadata": {},
   "outputs": [],
   "source": [
    "import sympy as sp\n",
    "from sympy import *\n",
    "\n",
    "# Initialisation de l'affichage pretty-print\n",
    "sp.init_printing()"
   ]
  },
  {
   "cell_type": "markdown",
   "id": "71a89b0f-59db-45b0-b35c-e122664624bb",
   "metadata": {},
   "source": [
    "## 1. Variables Symboliques et Expressions de Base"
   ]
  },
  {
   "cell_type": "code",
   "execution_count": 85,
   "id": "eb94c06f-f72f-4b87-bb2a-323b575b68a0",
   "metadata": {},
   "outputs": [
    {
     "name": "stdout",
     "output_type": "stream",
     "text": [
      "Expression 1: x**2 + 2*x + 1\n",
      "Expression 2: sin(x) + cos(x)\n",
      "Expression 3: exp(x)*log(x)\n",
      "\n",
      "\n",
      "APRÈS FORMATAGE ...\n",
      "\n",
      "Expression 1:\n"
     ]
    },
    {
     "data": {
      "image/png": "[encoded data removed]",
      "text/latex": [
       "$\\displaystyle x^{2} + 2 x + 1$"
      ],
      "text/plain": [
       " 2          \n",
       "x  + 2⋅x + 1"
      ]
     },
     "metadata": {},
     "output_type": "display_data"
    },
    {
     "name": "stdout",
     "output_type": "stream",
     "text": [
      "Expression 2:\n"
     ]
    },
    {
     "data": {
      "image/png": "[encoded data removed]",
      "text/latex": [
       "$\\displaystyle \\sin{\\left(x \\right)} + \\cos{\\left(x \\right)}$"
      ],
      "text/plain": [
       "sin(x) + cos(x)"
      ]
     },
     "metadata": {},
     "output_type": "display_data"
    },
    {
     "name": "stdout",
     "output_type": "stream",
     "text": [
      "Expression 3:\n"
     ]
    },
    {
     "data": {
      "image/png": "[encoded data removed]",
      "text/latex": [
       "$\\displaystyle e^{x} \\log{\\left(x \\right)}$"
      ],
      "text/plain": [
       " x       \n",
       "ℯ ⋅log(x)"
      ]
     },
     "metadata": {},
     "output_type": "display_data"
    }
   ],
   "source": [
    "# Cellule de code\n",
    "x, y, z = symbols('x y z')\n",
    "a, b, c = symbols('a b c')\n",
    "\n",
    "# Création d'expressions\n",
    "expr1 = x**2 + 2*x + 1\n",
    "expr2 = sin(x) + cos(x)\n",
    "expr3 = exp(x) * log(x)\n",
    "\n",
    "print(\"Expression 1:\", expr1)\n",
    "print(\"Expression 2:\", expr2)\n",
    "print(\"Expression 3:\", expr3)\n",
    "\n",
    "# Affichage avec pretty-print (affichera la belle formule)\n",
    "print(\"\\n\\nAPRÈS FORMATAGE ...\")\n",
    "\n",
    "print(\"\\nExpression 1:\")\n",
    "display (expr1) \n",
    "\n",
    "print(\"Expression 2:\")\n",
    "display (expr2) \n",
    "\n",
    "print(\"Expression 3:\")\n",
    "display (expr3) "
   ]
  },
  {
   "cell_type": "markdown",
   "id": "4d8d67cc-ecbf-4169-bc5b-cff9dae230b1",
   "metadata": {},
   "source": [
    "## 2. Calcul Différentiel"
   ]
  },
  {
   "cell_type": "code",
   "execution_count": 86,
   "id": "3aea78f1-70c1-4e43-8e36-05d3e51eeb2d",
   "metadata": {},
   "outputs": [
    {
     "name": "stdout",
     "output_type": "stream",
     "text": [
      "Dérivée de x³ + 2x² - x + 1:\n"
     ]
    },
    {
     "data": {
      "image/png": "[encoded data removed]",
      "text/latex": [
       "$\\displaystyle 3 x^{2} + 4 x - 1$"
      ],
      "text/plain": [
       "   2          \n",
       "3⋅x  + 4⋅x - 1"
      ]
     },
     "metadata": {},
     "output_type": "display_data"
    },
    {
     "name": "stdout",
     "output_type": "stream",
     "text": [
      "\n",
      "Dérivée partielle par rapport à x:\n"
     ]
    },
    {
     "data": {
      "image/png": "[encoded data removed]",
      "text/latex": [
       "$\\displaystyle 2 x y + y^{2} \\cos{\\left(x \\right)}$"
      ],
      "text/plain": [
       "         2       \n",
       "2⋅x⋅y + y ⋅cos(x)"
      ]
     },
     "metadata": {},
     "output_type": "display_data"
    },
    {
     "name": "stdout",
     "output_type": "stream",
     "text": [
      "\n",
      "Dérivée partielle par rapport à y:\n"
     ]
    },
    {
     "data": {
      "image/png": "[encoded data removed]",
      "text/latex": [
       "$\\displaystyle x^{2} + 2 y \\sin{\\left(x \\right)}$"
      ],
      "text/plain": [
       " 2             \n",
       "x  + 2⋅y⋅sin(x)"
      ]
     },
     "metadata": {},
     "output_type": "display_data"
    },
    {
     "name": "stdout",
     "output_type": "stream",
     "text": [
      "\n",
      "Dérivée seconde de sin(x):\n"
     ]
    },
    {
     "data": {
      "image/png": "[encoded data removed]",
      "text/latex": [
       "$\\displaystyle - \\sin{\\left(x \\right)}$"
      ],
      "text/plain": [
       "-sin(x)"
      ]
     },
     "execution_count": 86,
     "metadata": {},
     "output_type": "execute_result"
    }
   ],
   "source": [
    "# Cellule de code\n",
    "# Dérivée simple\n",
    "derivee_simple = diff(x**3 + 2*x**2 - x + 1, x)\n",
    "print(\"Dérivée de x³ + 2x² - x + 1:\")\n",
    "display (derivee_simple)\n",
    "\n",
    "# Dérivée partielle\n",
    "expr_2vars = x**2 * y + y**2 * sin(x)\n",
    "derivee_x = diff(expr_2vars, x)\n",
    "derivee_y = diff(expr_2vars, y)\n",
    "\n",
    "print(\"\\nDérivée partielle par rapport à x:\")\n",
    "display (derivee_x)\n",
    "print(\"\\nDérivée partielle par rapport à y:\")\n",
    "display (derivee_y)\n",
    "\n",
    "# Dérivée d'ordre supérieur\n",
    "derivee_seconde = diff(sin(x), x, x)  # ou diff(sin(x), x, 2)\n",
    "print(\"\\nDérivée seconde de sin(x):\")\n",
    "derivee_seconde"
   ]
  },
  {
   "cell_type": "markdown",
   "id": "2ed605c2-c39a-46ec-b065-79839b47e79e",
   "metadata": {},
   "source": [
    "## 3. Calcul Intégral"
   ]
  },
  {
   "cell_type": "code",
   "execution_count": 87,
   "id": "0e35dfa8-6d13-453a-94f8-48b22a067731",
   "metadata": {},
   "outputs": [
    {
     "name": "stdout",
     "output_type": "stream",
     "text": [
      "Intégrale de x² + 3x + 2:\n"
     ]
    },
    {
     "data": {
      "image/png": "[encoded data removed]",
      "text/latex": [
       "$\\displaystyle \\frac{x^{3}}{3} + \\frac{3 x^{2}}{2} + 2 x$"
      ],
      "text/plain": [
       " 3      2      \n",
       "x    3⋅x       \n",
       "── + ──── + 2⋅x\n",
       "3     2        "
      ]
     },
     "metadata": {},
     "output_type": "display_data"
    },
    {
     "name": "stdout",
     "output_type": "stream",
     "text": [
      "\n",
      "Intégrale de sin(x) de 0 à π:\n"
     ]
    },
    {
     "data": {
      "image/png": "[encoded data removed]",
      "text/latex": [
       "$\\displaystyle 2$"
      ],
      "text/plain": [
       "2"
      ]
     },
     "metadata": {},
     "output_type": "display_data"
    },
    {
     "name": "stdout",
     "output_type": "stream",
     "text": [
      "\n",
      "Intégrale de e^(-x²) de -∞ à +∞:\n"
     ]
    },
    {
     "data": {
      "image/png": "[encoded data removed]",
      "text/latex": [
       "$\\displaystyle \\sqrt{\\pi}$"
      ],
      "text/plain": [
       "√π"
      ]
     },
     "execution_count": 87,
     "metadata": {},
     "output_type": "execute_result"
    }
   ],
   "source": [
    "# Cellule de code\n",
    "# Intégrale indéfinie\n",
    "integrale_indefinie = integrate(x**2 + 3*x + 2, x)\n",
    "print(\"Intégrale de x² + 3x + 2:\")\n",
    "display (integrale_indefinie)\n",
    "\n",
    "# Intégrale définie (de 0 à Pi)\n",
    "integrale_definie = integrate(sin(x), (x, 0, pi))\n",
    "print(\"\\nIntégrale de sin(x) de 0 à π:\")\n",
    "display (integrale_definie)\n",
    "\n",
    "# Intégrale impropre (de -∞ à +∞, SymPy utilise 'oo' pour l'infini)\n",
    "integrale_impropre = integrate(exp(-x**2), (x, -oo, oo))\n",
    "print(\"\\nIntégrale de e^(-x²) de -∞ à +∞:\")\n",
    "integrale_impropre"
   ]
  },
  {
   "cell_type": "markdown",
   "id": "5121207c-945d-4edb-b109-d9828634858b",
   "metadata": {},
   "source": [
    "## 4. Résolution d'Équations"
   ]
  },
  {
   "cell_type": "code",
   "execution_count": 88,
   "id": "02e497e3-bf69-4de9-8475-3eaada4f97c0",
   "metadata": {},
   "outputs": [
    {
     "name": "stdout",
     "output_type": "stream",
     "text": [
      "Solutions de x² - 4 = 0:\n"
     ]
    },
    {
     "data": {
      "image/png": "[encoded data removed]",
      "text/latex": [
       "$\\displaystyle \\left[ -2, \\  2\\right]$"
      ],
      "text/plain": [
       "[-2, 2]"
      ]
     },
     "metadata": {},
     "output_type": "display_data"
    },
    {
     "name": "stdout",
     "output_type": "stream",
     "text": [
      "\n",
      "Solutions de sin(x) = 1/2:\n"
     ]
    },
    {
     "data": {
      "image/png": "[encoded data removed]",
      "text/latex": [
       "$\\displaystyle \\left[ 0.523598775598299, \\  2.61799387799149\\right]$"
      ],
      "text/plain": [
       "[0.523598775598299, 2.61799387799149]"
      ]
     },
     "metadata": {},
     "output_type": "display_data"
    },
    {
     "name": "stdout",
     "output_type": "stream",
     "text": [
      "\n",
      "Solution du système:\n"
     ]
    },
    {
     "data": {
      "image/png": "[encoded data removed]",
      "text/latex": [
       "$\\displaystyle \\left\\{ x : \\frac{9}{5}, \\  y : \\frac{4}{5}\\right\\}$"
      ],
      "text/plain": [
       "{x: 9/5, y: 4/5}"
      ]
     },
     "execution_count": 88,
     "metadata": {},
     "output_type": "execute_result"
    }
   ],
   "source": [
    "# Cellule de code\n",
    "# Équation simple\n",
    "solution1 = solve(x**2 - 4, x)\n",
    "print(\"Solutions de x² - 4 = 0:\")\n",
    "display (solution1)\n",
    "\n",
    "# Équation trigonométrique (SymPy fournit toutes les solutions générales)\n",
    "solution2 = solve(sin(x) - 1/2, x)\n",
    "print(\"\\nSolutions de sin(x) = 1/2:\")\n",
    "display (solution2)\n",
    "\n",
    "# Système d'équations\n",
    "eq1 = 2*x + 3*y - 6\n",
    "eq2 = x - y - 1\n",
    "solution_systeme = solve([eq1, eq2], [x, y])\n",
    "print(\"\\nSolution du système:\")\n",
    "solution_systeme"
   ]
  },
  {
   "cell_type": "markdown",
   "id": "6e70b937-e148-4814-af87-4e4d8a99d0ae",
   "metadata": {},
   "source": [
    "# 5. Simplification et Manipulation d'Expressions"
   ]
  },
  {
   "cell_type": "code",
   "execution_count": 89,
   "id": "8d5d2636-1973-448d-af6b-d324bdaf61fa",
   "metadata": {},
   "outputs": [
    {
     "name": "stdout",
     "output_type": "stream",
     "text": [
      "Expression originale:\n"
     ]
    },
    {
     "data": {
      "image/png": "[encoded data removed]",
      "text/latex": [
       "$\\displaystyle - \\left(x - 1\\right)^{3} + \\left(x + 1\\right)^{3}$"
      ],
      "text/plain": [
       "         3          3\n",
       "- (x - 1)  + (x + 1) "
      ]
     },
     "metadata": {},
     "output_type": "display_data"
    },
    {
     "name": "stdout",
     "output_type": "stream",
     "text": [
      "\n",
      "Expression développée:\n"
     ]
    },
    {
     "data": {
      "image/png": "[encoded data removed]",
      "text/latex": [
       "$\\displaystyle 6 x^{2} + 2$"
      ],
      "text/plain": [
       "   2    \n",
       "6⋅x  + 2"
      ]
     },
     "metadata": {},
     "output_type": "display_data"
    },
    {
     "name": "stdout",
     "output_type": "stream",
     "text": [
      "\n",
      "Expression factorisée:\n"
     ]
    },
    {
     "data": {
      "image/png": "[encoded data removed]",
      "text/latex": [
       "$\\displaystyle 2 \\left(3 x^{2} + 1\\right)$"
      ],
      "text/plain": [
       "  ⎛   2    ⎞\n",
       "2⋅⎝3⋅x  + 1⎠"
      ]
     },
     "metadata": {},
     "output_type": "display_data"
    },
    {
     "name": "stdout",
     "output_type": "stream",
     "text": [
      "\n",
      "Expression simplifiée:\n"
     ]
    },
    {
     "data": {
      "image/png": "[encoded data removed]",
      "text/latex": [
       "$\\displaystyle 6 x^{2} + 2$"
      ],
      "text/plain": [
       "   2    \n",
       "6⋅x  + 2"
      ]
     },
     "execution_count": 89,
     "metadata": {},
     "output_type": "execute_result"
    }
   ],
   "source": [
    "# Cellule de code\n",
    "# Expression complexe\n",
    "expr_complexe = (x + 1)**3 - (x - 1)**3\n",
    "print(\"Expression originale:\")\n",
    "display (expr_complexe)\n",
    "\n",
    "# Développement\n",
    "expr_developpee = expand(expr_complexe)\n",
    "print(\"\\nExpression développée:\")\n",
    "display (expr_developpee)\n",
    "\n",
    "# Factorisation\n",
    "expr_factorisee = factor(expr_developpee)\n",
    "print(\"\\nExpression factorisée:\")\n",
    "display (expr_factorisee)\n",
    "\n",
    "# Simplification (méthode générique)\n",
    "expr_simplifiee = simplify(expr_complexe)\n",
    "print(\"\\nExpression simplifiée:\")\n",
    "expr_simplifiee"
   ]
  },
  {
   "cell_type": "markdown",
   "id": "639e7259-6bbe-4a5f-a641-0e45b788821c",
   "metadata": {},
   "source": [
    "## 6. Séries et Limites"
   ]
  },
  {
   "cell_type": "code",
   "execution_count": 90,
   "id": "9f56b3d1-e855-4570-bf97-cfcf941a0594",
   "metadata": {},
   "outputs": [
    {
     "name": "stdout",
     "output_type": "stream",
     "text": [
      "Série de Taylor de cos(x) autour de 0 (jusqu'à l'ordre 8):\n"
     ]
    },
    {
     "data": {
      "image/png": "[encoded data removed]",
      "text/latex": [
       "$\\displaystyle 1 - \\frac{x^{2}}{2} + \\frac{x^{4}}{24} - \\frac{x^{6}}{720} + O\\left(x^{8}\\right)$"
      ],
      "text/plain": [
       "     2    4    6         \n",
       "    x    x    x      ⎛ 8⎞\n",
       "1 - ── + ── - ─── + O⎝x ⎠\n",
       "    2    24   720        "
      ]
     },
     "metadata": {},
     "output_type": "display_data"
    },
    {
     "name": "stdout",
     "output_type": "stream",
     "text": [
      "\n",
      "Limite de sin(x)/x quand x→0:\n"
     ]
    },
    {
     "data": {
      "image/png": "[encoded data removed]",
      "text/latex": [
       "$\\displaystyle 1$"
      ],
      "text/plain": [
       "1"
      ]
     },
     "metadata": {},
     "output_type": "display_data"
    },
    {
     "name": "stdout",
     "output_type": "stream",
     "text": [
      "\n",
      "Limite de (1 + 1/x)^x quand x→∞ (nombre e):\n"
     ]
    },
    {
     "data": {
      "image/png": "[encoded data removed]",
      "text/latex": [
       "$\\displaystyle e$"
      ],
      "text/plain": [
       "ℯ"
      ]
     },
     "execution_count": 90,
     "metadata": {},
     "output_type": "execute_result"
    }
   ],
   "source": [
    "# Cellule de code\n",
    "# Série de Taylor\n",
    "serie_taylor = series(cos(x), x, 0, 8)\n",
    "print(\"Série de Taylor de cos(x) autour de 0 (jusqu'à l'ordre 8):\")\n",
    "display (serie_taylor)\n",
    "\n",
    "# Limites (utilisant la valeur 'oo' pour l'infini)\n",
    "limite1 = limit(sin(x)/x, x, 0)\n",
    "print(\"\\nLimite de sin(x)/x quand x→0:\")\n",
    "display (limite1)\n",
    "\n",
    "limite2 = limit((1 + 1/x)**x, x, oo)\n",
    "print(\"\\nLimite de (1 + 1/x)^x quand x→∞ (nombre e):\")\n",
    "limite2"
   ]
  },
  {
   "cell_type": "markdown",
   "id": "311cbafd-e5d2-471f-b4ac-f4a8fc5d796e",
   "metadata": {},
   "source": [
    "## 7. Calcul Matriciel Symbolique"
   ]
  },
  {
   "cell_type": "code",
   "execution_count": 80,
   "id": "7c8e4d6d-16e5-4063-9f36-834ec731970b",
   "metadata": {},
   "outputs": [
    {
     "name": "stdout",
     "output_type": "stream",
     "text": [
      "Matrice A:\n"
     ]
    },
    {
     "data": {
      "text/latex": [
       "$\\displaystyle \\left[\\begin{matrix}1 & x\\\\y & 2\\end{matrix}\\right]$"
      ],
      "text/plain": [
       "⎡1  x⎤\n",
       "⎢    ⎥\n",
       "⎣y  2⎦"
      ]
     },
     "metadata": {},
     "output_type": "display_data"
    },
    {
     "name": "stdout",
     "output_type": "stream",
     "text": [
      "\n",
      "Matrice B:\n"
     ]
    },
    {
     "data": {
      "text/latex": [
       "$\\displaystyle \\left[\\begin{matrix}a & 1\\\\0 & b\\end{matrix}\\right]$"
      ],
      "text/plain": [
       "⎡a  1⎤\n",
       "⎢    ⎥\n",
       "⎣0  b⎦"
      ]
     },
     "metadata": {},
     "output_type": "display_data"
    },
    {
     "name": "stdout",
     "output_type": "stream",
     "text": [
      "\n",
      "Produit A * B:\n"
     ]
    },
    {
     "data": {
      "text/latex": [
       "$\\displaystyle \\left[\\begin{matrix}a & b x + 1\\\\a y & 2 b + y\\end{matrix}\\right]$"
      ],
      "text/plain": [
       "⎡ a   b⋅x + 1⎤\n",
       "⎢            ⎥\n",
       "⎣a⋅y  2⋅b + y⎦"
      ]
     },
     "metadata": {},
     "output_type": "display_data"
    },
    {
     "name": "stdout",
     "output_type": "stream",
     "text": [
      "\n",
      "Déterminant de A:\n"
     ]
    },
    {
     "data": {
      "image/png": "[encoded data removed]",
      "text/latex": [
       "$\\displaystyle - x y + 2$"
      ],
      "text/plain": [
       "-x⋅y + 2"
      ]
     },
     "metadata": {},
     "output_type": "display_data"
    },
    {
     "name": "stdout",
     "output_type": "stream",
     "text": [
      "\n",
      "Inverse de A:\n"
     ]
    },
    {
     "data": {
      "text/latex": [
       "$\\displaystyle \\left[\\begin{matrix}- \\frac{2}{x y - 2} & \\frac{x}{x y - 2}\\\\\\frac{y}{x y - 2} & - \\frac{1}{x y - 2}\\end{matrix}\\right]$"
      ],
      "text/plain": [
       "⎡  -2        x   ⎤\n",
       "⎢───────  ───────⎥\n",
       "⎢x⋅y - 2  x⋅y - 2⎥\n",
       "⎢                ⎥\n",
       "⎢   y       -1   ⎥\n",
       "⎢───────  ───────⎥\n",
       "⎣x⋅y - 2  x⋅y - 2⎦"
      ]
     },
     "execution_count": 80,
     "metadata": {},
     "output_type": "execute_result"
    }
   ],
   "source": [
    "# Cellule de code\n",
    "# Matrices symboliques (a et b ont été définis précédemment)\n",
    "A = Matrix([[1, x], [y, 2]])\n",
    "B = Matrix([[a, 1], [0, b]])\n",
    "\n",
    "print(\"Matrice A:\")\n",
    "display(A)\n",
    "print(\"\\nMatrice B:\")\n",
    "display(B)\n",
    "\n",
    "# Opérations matricielles\n",
    "produit = A * B\n",
    "print(\"\\nProduit A * B:\")\n",
    "display(produit)\n",
    "\n",
    "# Déterminant\n",
    "determinant = A.det()\n",
    "print(\"\\nDéterminant de A:\")\n",
    "display(determinant)\n",
    "\n",
    "# Inverse\n",
    "inverse_A = A.inv()\n",
    "print(\"\\nInverse de A:\")\n",
    "inverse_A"
   ]
  },
  {
   "cell_type": "markdown",
   "id": "c8ca0f3d-dd20-45c2-bd93-9bed2070f9b3",
   "metadata": {},
   "source": [
    "## Conclusion\n",
    "\n",
    "En somme SymPy est un outil puissant pour le calcul symbolique en Python. Il permet entre autre :\n",
    "- Le calcul exact de dérivées et intégrales\n",
    "- La résolution formelle d'équations\n",
    "- La manipulation d'expressions mathématiques complexes\n",
    "\n",
    "\n",
    "**Applications :** mathématiques, physique, ingénierie, économie, et toute discipline nécessitant des calculs mathématiques exacts."
   ]
  },
  {
   "cell_type": "code",
   "execution_count": null,
   "id": "8678945f-3532-4639-9860-abe110712cac",
   "metadata": {},
   "outputs": [],
   "source": []
  }
 ],
 "metadata": {
  "kernelspec": {
   "display_name": "Python 3 (ipykernel)",
   "language": "python",
   "name": "python3"
  },
  "language_info": {
   "codemirror_mode": {
    "name": "ipython",
    "version": 3
   },
   "file_extension": ".py",
   "mimetype": "text/x-python",
   "name": "python",
   "nbconvert_exporter": "python",
   "pygments_lexer": "ipython3",
   "version": "3.12.6"
  }
 },
 "nbformat": 4,
 "nbformat_minor": 5
}
